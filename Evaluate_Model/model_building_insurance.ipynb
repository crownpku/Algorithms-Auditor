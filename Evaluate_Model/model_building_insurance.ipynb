{
 "cells": [
  {
   "cell_type": "markdown",
   "metadata": {},
   "source": [
    "This is a notebook intended to show case the What-If-Tool for insurance use case.\n",
    "\n",
    "This is the model building part.\n",
    "\n",
    "For any questions please reach out to crownpku@gmail.com"
   ]
  },
  {
   "cell_type": "code",
   "execution_count": 17,
   "metadata": {},
   "outputs": [
    {
     "name": "stdout",
     "output_type": "stream",
     "text": [
      "Collecting shap\n",
      "\u001b[?25l  Downloading https://files.pythonhosted.org/packages/d2/17/37ee6c79cafbd9bb7423b54e55ea90beec66aa7638664d607bcc28de0bae/shap-0.36.0.tar.gz (319kB)\n",
      "\u001b[K     |████████████████████████████████| 327kB 2.2MB/s eta 0:00:01\n",
      "\u001b[?25hRequirement already satisfied: numpy in /home/crown/anaconda3/envs/py36/lib/python3.6/site-packages (from shap) (1.17.2)\n",
      "Requirement already satisfied: scipy in /home/crown/anaconda3/envs/py36/lib/python3.6/site-packages (from shap) (1.3.1)\n",
      "Requirement already satisfied: scikit-learn in /home/crown/anaconda3/envs/py36/lib/python3.6/site-packages (from shap) (0.21.3)\n",
      "Requirement already satisfied: pandas in /home/crown/anaconda3/envs/py36/lib/python3.6/site-packages (from shap) (0.25.1)\n",
      "Collecting tqdm>4.25.0 (from shap)\n",
      "\u001b[?25l  Downloading https://files.pythonhosted.org/packages/bd/cf/f91813073e4135c1183cadf968256764a6fe4e35c351d596d527c0540461/tqdm-4.50.2-py2.py3-none-any.whl (70kB)\n",
      "\u001b[K     |████████████████████████████████| 71kB 4.9MB/s eta 0:00:01\n",
      "\u001b[?25hCollecting slicer (from shap)\n",
      "  Downloading https://files.pythonhosted.org/packages/46/cf/f37ac7f61214ed044b0df91252ab19376de5587926c5b572f060eb7bf257/slicer-0.0.4-py3-none-any.whl\n",
      "Collecting numba (from shap)\n",
      "\u001b[?25l  Downloading https://files.pythonhosted.org/packages/5e/81/6fd1dd064bcf71a79da109e8966a39e2da61d68bf0bd1e0839fa997f8c41/numba-0.51.2.tar.gz (2.1MB)\n",
      "\u001b[K     |████████████████████████████████| 2.1MB 3.0MB/s eta 0:00:01     |███████████▋                    | 747kB 3.0MB/s eta 0:00:01\n",
      "\u001b[?25hRequirement already satisfied: joblib>=0.11 in /home/crown/anaconda3/envs/py36/lib/python3.6/site-packages (from scikit-learn->shap) (0.14.0)\n",
      "Requirement already satisfied: python-dateutil>=2.6.1 in /home/crown/anaconda3/envs/py36/lib/python3.6/site-packages (from pandas->shap) (2.8.0)\n",
      "Requirement already satisfied: pytz>=2017.2 in /home/crown/anaconda3/envs/py36/lib/python3.6/site-packages (from pandas->shap) (2019.2)\n",
      "Collecting llvmlite<0.35,>=0.34.0.dev0 (from numba->shap)\n",
      "\u001b[?25l  Downloading https://files.pythonhosted.org/packages/f3/b7/8a91b513f165e0affdeb975c1fef307c39d1051ce71e8aec1da9dcb317ad/llvmlite-0.34.0-cp36-cp36m-manylinux2010_x86_64.whl (24.6MB)\n",
      "\u001b[K     |████████████████████████████████| 24.6MB 2.8MB/s eta 0:00:01     |██████████████████████████▌     | 20.4MB 2.8MB/s eta 0:00:02\n",
      "\u001b[?25hRequirement already satisfied: setuptools in /home/crown/anaconda3/envs/py36/lib/python3.6/site-packages (from numba->shap) (41.2.0)\n",
      "Requirement already satisfied: six>=1.5 in /home/crown/anaconda3/envs/py36/lib/python3.6/site-packages (from python-dateutil>=2.6.1->pandas->shap) (1.12.0)\n",
      "Building wheels for collected packages: shap, numba\n",
      "  Building wheel for shap (setup.py) ... \u001b[?25ldone\n",
      "\u001b[?25h  Created wheel for shap: filename=shap-0.36.0-cp36-cp36m-linux_x86_64.whl size=501169 sha256=96aab92b18818ac88bd013b1cca5659096a885813427d94148ff461b871671e6\n",
      "  Stored in directory: /home/crown/.cache/pip/wheels/fb/15/e1/8f61106790da27e0765aaa6e664550ca2c50ea339099e799f4\n",
      "  Building wheel for numba (setup.py) ... \u001b[?25ldone\n",
      "\u001b[?25h  Created wheel for numba: filename=numba-0.51.2-cp36-cp36m-linux_x86_64.whl size=2941592 sha256=fc637dc63362b05de536aa1f91324e77476dfa5061bb394d980f37f118a4611c\n",
      "  Stored in directory: /home/crown/.cache/pip/wheels/cd/cd/8c/314cbe49cd8bb876f251763442807db9d55968d1f44cb20013\n",
      "Successfully built shap numba\n",
      "Installing collected packages: tqdm, slicer, llvmlite, numba, shap\n",
      "Successfully installed llvmlite-0.34.0 numba-0.51.2 shap-0.36.0 slicer-0.0.4 tqdm-4.50.2\n"
     ]
    }
   ],
   "source": [
    "#install missing packages\n",
    "!pip install shap\n",
    "#!pip install matplotlib #--quiet\n",
    "#!pip install xgboost==0.90 #--quiet \n",
    "#!pip install witwidget #--quiet\n",
    "#!jupyter labextension install wit-widget\n",
    "#!jupyter labextension install @jupyter-widgets/jupyterlab-manager"
   ]
  },
  {
   "cell_type": "code",
   "execution_count": 1,
   "metadata": {},
   "outputs": [],
   "source": [
    "import os\n",
    "import warnings\n",
    "import pandas as pd\n",
    "import xgboost as xgb\n",
    "import numpy as np\n",
    "import collections\n",
    "import witwidget\n",
    "\n",
    "from sklearn.preprocessing import StandardScaler\n",
    "from sklearn.pipeline import FeatureUnion, make_pipeline\n",
    "from sklearn.utils import shuffle\n",
    "from sklearn.base import clone\n",
    "from sklearn.model_selection import train_test_split\n",
    "from sklearn.metrics import accuracy_score, confusion_matrix\n",
    "from sklearn.linear_model import LogisticRegression\n",
    "from sklearn.tree import DecisionTreeClassifier\n",
    "from witwidget.notebook.visualization import WitWidget, WitConfigBuilder\n",
    "import custom_transforms\n",
    "%matplotlib inline\n",
    "warnings.filterwarnings('ignore')"
   ]
  },
  {
   "cell_type": "markdown",
   "metadata": {},
   "source": [
    "# Read and pre-process the data"
   ]
  },
  {
   "cell_type": "code",
   "execution_count": 2,
   "metadata": {},
   "outputs": [
    {
     "data": {
      "text/html": [
       "<div>\n",
       "<style scoped>\n",
       "    .dataframe tbody tr th:only-of-type {\n",
       "        vertical-align: middle;\n",
       "    }\n",
       "\n",
       "    .dataframe tbody tr th {\n",
       "        vertical-align: top;\n",
       "    }\n",
       "\n",
       "    .dataframe thead th {\n",
       "        text-align: right;\n",
       "    }\n",
       "</style>\n",
       "<table border=\"1\" class=\"dataframe\">\n",
       "  <thead>\n",
       "    <tr style=\"text-align: right;\">\n",
       "      <th></th>\n",
       "      <th>age</th>\n",
       "      <th>sex</th>\n",
       "      <th>bmi</th>\n",
       "      <th>children</th>\n",
       "      <th>smoker</th>\n",
       "      <th>region</th>\n",
       "      <th>charges</th>\n",
       "    </tr>\n",
       "  </thead>\n",
       "  <tbody>\n",
       "    <tr>\n",
       "      <td>0</td>\n",
       "      <td>19</td>\n",
       "      <td>female</td>\n",
       "      <td>27.900</td>\n",
       "      <td>0</td>\n",
       "      <td>yes</td>\n",
       "      <td>southwest</td>\n",
       "      <td>16884.92400</td>\n",
       "    </tr>\n",
       "    <tr>\n",
       "      <td>1</td>\n",
       "      <td>18</td>\n",
       "      <td>male</td>\n",
       "      <td>33.770</td>\n",
       "      <td>1</td>\n",
       "      <td>no</td>\n",
       "      <td>southeast</td>\n",
       "      <td>1725.55230</td>\n",
       "    </tr>\n",
       "    <tr>\n",
       "      <td>2</td>\n",
       "      <td>28</td>\n",
       "      <td>male</td>\n",
       "      <td>33.000</td>\n",
       "      <td>3</td>\n",
       "      <td>no</td>\n",
       "      <td>southeast</td>\n",
       "      <td>4449.46200</td>\n",
       "    </tr>\n",
       "    <tr>\n",
       "      <td>3</td>\n",
       "      <td>33</td>\n",
       "      <td>male</td>\n",
       "      <td>22.705</td>\n",
       "      <td>0</td>\n",
       "      <td>no</td>\n",
       "      <td>northwest</td>\n",
       "      <td>21984.47061</td>\n",
       "    </tr>\n",
       "    <tr>\n",
       "      <td>4</td>\n",
       "      <td>32</td>\n",
       "      <td>male</td>\n",
       "      <td>28.880</td>\n",
       "      <td>0</td>\n",
       "      <td>no</td>\n",
       "      <td>northwest</td>\n",
       "      <td>3866.85520</td>\n",
       "    </tr>\n",
       "    <tr>\n",
       "      <td>5</td>\n",
       "      <td>31</td>\n",
       "      <td>female</td>\n",
       "      <td>25.740</td>\n",
       "      <td>0</td>\n",
       "      <td>no</td>\n",
       "      <td>southeast</td>\n",
       "      <td>3756.62160</td>\n",
       "    </tr>\n",
       "    <tr>\n",
       "      <td>6</td>\n",
       "      <td>46</td>\n",
       "      <td>female</td>\n",
       "      <td>33.440</td>\n",
       "      <td>1</td>\n",
       "      <td>no</td>\n",
       "      <td>southeast</td>\n",
       "      <td>8240.58960</td>\n",
       "    </tr>\n",
       "    <tr>\n",
       "      <td>7</td>\n",
       "      <td>37</td>\n",
       "      <td>female</td>\n",
       "      <td>27.740</td>\n",
       "      <td>3</td>\n",
       "      <td>no</td>\n",
       "      <td>northwest</td>\n",
       "      <td>7281.50560</td>\n",
       "    </tr>\n",
       "    <tr>\n",
       "      <td>8</td>\n",
       "      <td>37</td>\n",
       "      <td>male</td>\n",
       "      <td>29.830</td>\n",
       "      <td>2</td>\n",
       "      <td>no</td>\n",
       "      <td>northeast</td>\n",
       "      <td>6406.41070</td>\n",
       "    </tr>\n",
       "    <tr>\n",
       "      <td>9</td>\n",
       "      <td>60</td>\n",
       "      <td>female</td>\n",
       "      <td>25.840</td>\n",
       "      <td>0</td>\n",
       "      <td>no</td>\n",
       "      <td>northwest</td>\n",
       "      <td>28923.13692</td>\n",
       "    </tr>\n",
       "  </tbody>\n",
       "</table>\n",
       "</div>"
      ],
      "text/plain": [
       "   age     sex     bmi  children smoker     region      charges\n",
       "0   19  female  27.900         0    yes  southwest  16884.92400\n",
       "1   18    male  33.770         1     no  southeast   1725.55230\n",
       "2   28    male  33.000         3     no  southeast   4449.46200\n",
       "3   33    male  22.705         0     no  northwest  21984.47061\n",
       "4   32    male  28.880         0     no  northwest   3866.85520\n",
       "5   31  female  25.740         0     no  southeast   3756.62160\n",
       "6   46  female  33.440         1     no  southeast   8240.58960\n",
       "7   37  female  27.740         3     no  northwest   7281.50560\n",
       "8   37    male  29.830         2     no  northeast   6406.41070\n",
       "9   60  female  25.840         0     no  northwest  28923.13692"
      ]
     },
     "execution_count": 2,
     "metadata": {},
     "output_type": "execute_result"
    }
   ],
   "source": [
    "df = pd.read_csv(\"../data/insurance.csv\")\n",
    "df.head(10)"
   ]
  },
  {
   "cell_type": "code",
   "execution_count": 3,
   "metadata": {},
   "outputs": [
    {
     "data": {
      "text/plain": [
       "array([[<AxesSubplot:title={'center':'age'}>,\n",
       "        <AxesSubplot:title={'center':'bmi'}>],\n",
       "       [<AxesSubplot:title={'center':'charges'}>,\n",
       "        <AxesSubplot:title={'center':'children'}>]], dtype=object)"
      ]
     },
     "execution_count": 3,
     "metadata": {},
     "output_type": "execute_result"
    },
    {
     "data": {
      "image/png": "[encoded data removed]",
      "text/plain": [
       "<Figure size 432x288 with 4 Axes>"
      ]
     },
     "metadata": {
      "needs_background": "light"
     },
     "output_type": "display_data"
    }
   ],
   "source": [
    "#Let's first look at the distribution of charges\n",
    "df.hist()"
   ]
  },
  {
   "cell_type": "markdown",
   "metadata": {},
   "source": [
    "# We plan to build 3 models:\n",
    "1. Two simple models for Predictive Underwriting, so we convert medical charges to good/bad risks and train a binary classification model\n",
    "\n",
    "    1.1 A decision tree model\n",
    "    \n",
    "    1.2 A logistic regression model\n",
    "    \n",
    "2. A simple model for Dynamic Pricing, so we treat it as a regression model.\n"
   ]
  },
  {
   "cell_type": "markdown",
   "metadata": {},
   "source": [
    "## First Model: Predictive Underwriting"
   ]
  },
  {
   "cell_type": "code",
   "execution_count": 4,
   "metadata": {},
   "outputs": [
    {
     "data": {
      "text/html": [
       "<div>\n",
       "<style scoped>\n",
       "    .dataframe tbody tr th:only-of-type {\n",
       "        vertical-align: middle;\n",
       "    }\n",
       "\n",
       "    .dataframe tbody tr th {\n",
       "        vertical-align: top;\n",
       "    }\n",
       "\n",
       "    .dataframe thead th {\n",
       "        text-align: right;\n",
       "    }\n",
       "</style>\n",
       "<table border=\"1\" class=\"dataframe\">\n",
       "  <thead>\n",
       "    <tr style=\"text-align: right;\">\n",
       "      <th></th>\n",
       "      <th>age</th>\n",
       "      <th>sex</th>\n",
       "      <th>bmi</th>\n",
       "      <th>children</th>\n",
       "      <th>smoker</th>\n",
       "      <th>region</th>\n",
       "      <th>risk</th>\n",
       "    </tr>\n",
       "  </thead>\n",
       "  <tbody>\n",
       "    <tr>\n",
       "      <td>0</td>\n",
       "      <td>19</td>\n",
       "      <td>female</td>\n",
       "      <td>27.900</td>\n",
       "      <td>0</td>\n",
       "      <td>yes</td>\n",
       "      <td>southwest</td>\n",
       "      <td>False</td>\n",
       "    </tr>\n",
       "    <tr>\n",
       "      <td>1</td>\n",
       "      <td>18</td>\n",
       "      <td>male</td>\n",
       "      <td>33.770</td>\n",
       "      <td>1</td>\n",
       "      <td>no</td>\n",
       "      <td>southeast</td>\n",
       "      <td>True</td>\n",
       "    </tr>\n",
       "    <tr>\n",
       "      <td>2</td>\n",
       "      <td>28</td>\n",
       "      <td>male</td>\n",
       "      <td>33.000</td>\n",
       "      <td>3</td>\n",
       "      <td>no</td>\n",
       "      <td>southeast</td>\n",
       "      <td>True</td>\n",
       "    </tr>\n",
       "    <tr>\n",
       "      <td>3</td>\n",
       "      <td>33</td>\n",
       "      <td>male</td>\n",
       "      <td>22.705</td>\n",
       "      <td>0</td>\n",
       "      <td>no</td>\n",
       "      <td>northwest</td>\n",
       "      <td>False</td>\n",
       "    </tr>\n",
       "    <tr>\n",
       "      <td>4</td>\n",
       "      <td>32</td>\n",
       "      <td>male</td>\n",
       "      <td>28.880</td>\n",
       "      <td>0</td>\n",
       "      <td>no</td>\n",
       "      <td>northwest</td>\n",
       "      <td>True</td>\n",
       "    </tr>\n",
       "  </tbody>\n",
       "</table>\n",
       "</div>"
      ],
      "text/plain": [
       "   age     sex     bmi  children smoker     region   risk\n",
       "0   19  female  27.900         0    yes  southwest  False\n",
       "1   18    male  33.770         1     no  southeast   True\n",
       "2   28    male  33.000         3     no  southeast   True\n",
       "3   33    male  22.705         0     no  northwest  False\n",
       "4   32    male  28.880         0     no  northwest   True"
      ]
     },
     "execution_count": 4,
     "metadata": {},
     "output_type": "execute_result"
    }
   ],
   "source": [
    "# Deep copy of the data for puW\n",
    "df_puw = df.copy()\n",
    "\n",
    "#Now let's put everyone whose charge is above 10000 as \"Bad Risk\" or as 0, else are \"Good Risk\" or as 1\n",
    "def good_risk(row):\n",
    "    if row['charges'] > 10000:\n",
    "        return False\n",
    "    else:\n",
    "        return True\n",
    "    \n",
    "df_puw['risk'] = df.apply(good_risk, axis=1)\n",
    "df_puw.drop(['charges'],axis=1, inplace=True)\n",
    "df_puw.head()"
   ]
  },
  {
   "cell_type": "code",
   "execution_count": 5,
   "metadata": {},
   "outputs": [],
   "source": [
    "#Now we build a logistic regression and a xgboost model to predict the risk\n",
    "# Label preprocessing\n",
    "labels = df_puw['risk'].values\n",
    "data = df_puw.drop(columns=['risk'])\n",
    "\n",
    "# Split the data into train / test sets\n",
    "x,y = data,labels\n",
    "x_train,x_test,y_train,y_test = train_test_split(x,y)"
   ]
  },
  {
   "cell_type": "code",
   "execution_count": 6,
   "metadata": {},
   "outputs": [],
   "source": [
    "numerical_indices = [0, 2, 3]  \n",
    "categorical_indices = [1, 4, 5]  \n",
    "\n",
    "p1 = make_pipeline(\n",
    "    custom_transforms.PositionalSelector(categorical_indices),\n",
    "    custom_transforms.StripString(),\n",
    "    custom_transforms.SimpleOneHotEncoder()\n",
    ")\n",
    "p2 = make_pipeline(\n",
    "    custom_transforms.PositionalSelector(numerical_indices),\n",
    "    StandardScaler()\n",
    ")\n",
    "p3 = FeatureUnion([\n",
    "    ('numericals', p1),\n",
    "    ('categoricals', p2),\n",
    "])"
   ]
  },
  {
   "cell_type": "code",
   "execution_count": 7,
   "metadata": {},
   "outputs": [],
   "source": [
    "\n",
    "pipeline_decision_tree = make_pipeline(\n",
    "    p3,\n",
    "    DecisionTreeClassifier()\n",
    ")\n",
    "\n",
    "pipeline_logistic_regression = make_pipeline(\n",
    "    p3,\n",
    "    LogisticRegression()\n",
    ")\n",
    "\n",
    "pipeline_xgboost = make_pipeline(\n",
    "    p3,\n",
    "    xgb.sklearn.XGBClassifier()\n",
    ")\n"
   ]
  },
  {
   "cell_type": "code",
   "execution_count": 8,
   "metadata": {},
   "outputs": [
    {
     "data": {
      "text/plain": [
       "Pipeline(memory=None,\n",
       "         steps=[('featureunion',\n",
       "                 FeatureUnion(n_jobs=None,\n",
       "                              transformer_list=[('numericals',\n",
       "                                                 Pipeline(memory=None,\n",
       "                                                          steps=[('positionalselector',\n",
       "                                                                  PositionalSelector(positions=[1,\n",
       "                                                                                                4,\n",
       "                                                                                                5])),\n",
       "                                                                 ('stripstring',\n",
       "                                                                  StripString()),\n",
       "                                                                 ('simpleonehotencoder',\n",
       "                                                                  SimpleOneHotEncoder())],\n",
       "                                                          verbose=False)),\n",
       "                                                ('categoricals',\n",
       "                                                 Pipeline(memory=None,\n",
       "                                                          steps=[('positionalselector',\n",
       "                                                                  P...\n",
       "                 XGBClassifier(base_score=0.5, booster='gbtree',\n",
       "                               colsample_bylevel=1, colsample_bynode=1,\n",
       "                               colsample_bytree=1, gamma=0, learning_rate=0.1,\n",
       "                               max_delta_step=0, max_depth=3,\n",
       "                               min_child_weight=1, missing=None,\n",
       "                               n_estimators=100, n_jobs=1, nthread=None,\n",
       "                               objective='binary:logistic', random_state=0,\n",
       "                               reg_alpha=0, reg_lambda=1, scale_pos_weight=1,\n",
       "                               seed=None, silent=None, subsample=1,\n",
       "                               verbosity=1))],\n",
       "         verbose=False)"
      ]
     },
     "execution_count": 8,
     "metadata": {},
     "output_type": "execute_result"
    }
   ],
   "source": [
    "# Train the model, this will take a few minutes to run\n",
    "pipeline_decision_tree.fit(x_train, y_train)\n",
    "pipeline_logistic_regression.fit(x_train, y_train)\n",
    "pipeline_xgboost.fit(x_train, y_train)"
   ]
  },
  {
   "cell_type": "code",
   "execution_count": 14,
   "metadata": {},
   "outputs": [
    {
     "name": "stdout",
     "output_type": "stream",
     "text": [
      "\n",
      " Accuracy of Decision Tree is 0.8686567164179104 \n",
      "\n",
      "Confusion matrix for Decision Tree:\n",
      "[[0.84666667 0.12432432]\n",
      " [0.14       0.88648649]]\n",
      "\n",
      "\n",
      " Accuracy of Logistic Regression is 0.9044776119402985 \n",
      "\n",
      "Confusion matrix for Logistic Regression:\n",
      "[[0.89333333 0.08648649]\n",
      " [0.10666667 0.91351351]]\n",
      "\n",
      "\n",
      " Accuracy of XGBoost is 0.9313432835820895 \n",
      "\n",
      "Confusion matrix for Logistic Regression:\n",
      "[[0.86       0.11351351]\n",
      " [0.01333333 0.98918919]]\n"
     ]
    }
   ],
   "source": [
    "#decision tree\n",
    "# Get predictions on the test set and print the accuracy score\n",
    "y_pred = pipeline_decision_tree.predict(x_test)\n",
    "acc = accuracy_score(y_test, y_pred.round())\n",
    "print('\\n','Accuracy of Decision Tree is', acc, '\\n')\n",
    "# Print a confusion matrix\n",
    "print('Confusion matrix for Decision Tree:')\n",
    "cm = confusion_matrix(y_test, y_pred.round())\n",
    "cm = cm / cm.astype(np.float).sum(axis=1)\n",
    "print(cm)\n",
    "\n",
    "#Logistic Regression\n",
    "# Get predictions on the test set and print the accuracy score\n",
    "y_pred = pipeline_logistic_regression.predict(x_test)\n",
    "acc = accuracy_score(y_test, y_pred.round())\n",
    "print('\\n\\n','Accuracy of Logistic Regression is', acc, '\\n')\n",
    "# Print a confusion matrix\n",
    "print('Confusion matrix for Logistic Regression:')\n",
    "cm = confusion_matrix(y_test, y_pred.round())\n",
    "cm = cm / cm.astype(np.float).sum(axis=1)\n",
    "print(cm)\n",
    "\n",
    "#xgboost\n",
    "# Get predictions on the test set and print the accuracy score\n",
    "y_pred = pipeline_xgboost.predict(x_test)\n",
    "acc = accuracy_score(y_test, y_pred.round())\n",
    "print('\\n\\n','Accuracy of XGBoost is', acc, '\\n')\n",
    "# Print a confusion matrix\n",
    "print('Confusion matrix for Logistic Regression:')\n",
    "cm = confusion_matrix(y_test, y_pred.round())\n",
    "cm = cm / cm.astype(np.float).sum(axis=1)\n",
    "print(cm)"
   ]
  },
  {
   "cell_type": "code",
   "execution_count": 15,
   "metadata": {},
   "outputs": [],
   "source": [
    "#Prepare data for what-if-tool\n",
    "test_examples = x_test\n",
    "test_examples['risk'] = y_test"
   ]
  },
  {
   "cell_type": "code",
   "execution_count": 16,
   "metadata": {
    "scrolled": false
   },
   "outputs": [
    {
     "data": {
      "text/html": [
       "<style>.container { width:100% !important; }</style>"
      ],
      "text/plain": [
       "<IPython.core.display.HTML object>"
      ]
     },
     "metadata": {},
     "output_type": "display_data"
    },
    {
     "data": {
      "application/vnd.jupyter.widget-view+json": {
       "model_id": "b9f6b9d472bd4ff8983d7bd05b0626db",
       "version_major": 2,
       "version_minor": 0
      },
      "text/plain": [
       "WitWidget(config={'model_type': 'classification', 'label_vocab': ['Bad Risk', 'Good Risk'], 'feature_names': […"
      ]
     },
     "metadata": {},
     "output_type": "display_data"
    }
   ],
   "source": [
    "#definea a customized prediction function so it fits the what-if-tool format\n",
    "def customized_prediction_decision_tree(x):\n",
    "    x_df = pd.DataFrame(x, columns=data.columns.tolist())\n",
    "    return pipeline_decision_tree.predict_proba(x_df)\n",
    "\n",
    "def customized_prediction_logistic_regression(x):\n",
    "    x_df = pd.DataFrame(x, columns=data.columns.tolist())\n",
    "    return pipeline_logistic_regression.predict_proba(x_df)\n",
    "\n",
    "def customized_prediction_xgboost(x):\n",
    "    x_df = pd.DataFrame(x, columns=data.columns.tolist())\n",
    "    return pipeline_xgboost.predict_proba(x_df)\n",
    "\n",
    "#fire up the tool\n",
    "config_builder = (\n",
    "    WitConfigBuilder(test_examples.values.tolist(), test_examples.columns.tolist())\n",
    "    .set_custom_predict_fn(customized_prediction_logistic_regression)\n",
    "    .set_compare_custom_predict_fn(customized_prediction_xgboost)\n",
    "    .set_target_feature('risk')\n",
    "    .set_model_type('classification')\n",
    "    .set_label_vocab(['Bad Risk', 'Good Risk'])\n",
    ")\n",
    "\n",
    "WitWidget(config_builder, height=1000)"
   ]
  },
  {
   "cell_type": "markdown",
   "metadata": {},
   "source": [
    "### Quick comments:\n"
   ]
  },
  {
   "cell_type": "markdown",
   "metadata": {},
   "source": [
    "## Second Model: Dynamic Pricing"
   ]
  },
  {
   "cell_type": "code",
   "execution_count": 39,
   "metadata": {},
   "outputs": [
    {
     "data": {
      "text/html": [
       "<div>\n",
       "<style scoped>\n",
       "    .dataframe tbody tr th:only-of-type {\n",
       "        vertical-align: middle;\n",
       "    }\n",
       "\n",
       "    .dataframe tbody tr th {\n",
       "        vertical-align: top;\n",
       "    }\n",
       "\n",
       "    .dataframe thead th {\n",
       "        text-align: right;\n",
       "    }\n",
       "</style>\n",
       "<table border=\"1\" class=\"dataframe\">\n",
       "  <thead>\n",
       "    <tr style=\"text-align: right;\">\n",
       "      <th></th>\n",
       "      <th>age</th>\n",
       "      <th>sex</th>\n",
       "      <th>bmi</th>\n",
       "      <th>children</th>\n",
       "      <th>smoker</th>\n",
       "      <th>region</th>\n",
       "      <th>charges</th>\n",
       "    </tr>\n",
       "  </thead>\n",
       "  <tbody>\n",
       "    <tr>\n",
       "      <td>0</td>\n",
       "      <td>19</td>\n",
       "      <td>female</td>\n",
       "      <td>27.900</td>\n",
       "      <td>0</td>\n",
       "      <td>yes</td>\n",
       "      <td>southwest</td>\n",
       "      <td>16884.92400</td>\n",
       "    </tr>\n",
       "    <tr>\n",
       "      <td>1</td>\n",
       "      <td>18</td>\n",
       "      <td>male</td>\n",
       "      <td>33.770</td>\n",
       "      <td>1</td>\n",
       "      <td>no</td>\n",
       "      <td>southeast</td>\n",
       "      <td>1725.55230</td>\n",
       "    </tr>\n",
       "    <tr>\n",
       "      <td>2</td>\n",
       "      <td>28</td>\n",
       "      <td>male</td>\n",
       "      <td>33.000</td>\n",
       "      <td>3</td>\n",
       "      <td>no</td>\n",
       "      <td>southeast</td>\n",
       "      <td>4449.46200</td>\n",
       "    </tr>\n",
       "    <tr>\n",
       "      <td>3</td>\n",
       "      <td>33</td>\n",
       "      <td>male</td>\n",
       "      <td>22.705</td>\n",
       "      <td>0</td>\n",
       "      <td>no</td>\n",
       "      <td>northwest</td>\n",
       "      <td>21984.47061</td>\n",
       "    </tr>\n",
       "    <tr>\n",
       "      <td>4</td>\n",
       "      <td>32</td>\n",
       "      <td>male</td>\n",
       "      <td>28.880</td>\n",
       "      <td>0</td>\n",
       "      <td>no</td>\n",
       "      <td>northwest</td>\n",
       "      <td>3866.85520</td>\n",
       "    </tr>\n",
       "  </tbody>\n",
       "</table>\n",
       "</div>"
      ],
      "text/plain": [
       "   age     sex     bmi  children smoker     region      charges\n",
       "0   19  female  27.900         0    yes  southwest  16884.92400\n",
       "1   18    male  33.770         1     no  southeast   1725.55230\n",
       "2   28    male  33.000         3     no  southeast   4449.46200\n",
       "3   33    male  22.705         0     no  northwest  21984.47061\n",
       "4   32    male  28.880         0     no  northwest   3866.85520"
      ]
     },
     "execution_count": 39,
     "metadata": {},
     "output_type": "execute_result"
    }
   ],
   "source": [
    "# Deep copy of the data for dp\n",
    "df_dp = df.copy()\n",
    "df_dp.head()"
   ]
  },
  {
   "cell_type": "code",
   "execution_count": 41,
   "metadata": {},
   "outputs": [],
   "source": [
    "#Now we build a xgboost model to predict the risk\n",
    "# Label preprocessing\n",
    "labels = df_dp['charges'].values\n",
    "data = df_dp.drop(columns=['charges'])\n",
    "\n",
    "# Split the data into train / test sets\n",
    "x,y = data,labels\n",
    "x_train,x_test,y_train,y_test = train_test_split(x,y)"
   ]
  },
  {
   "cell_type": "code",
   "execution_count": 42,
   "metadata": {},
   "outputs": [],
   "source": [
    "pipeline2 = make_pipeline(\n",
    "    p3,\n",
    "    xgb.sklearn.XGBRegressor()\n",
    ")"
   ]
  },
  {
   "cell_type": "code",
   "execution_count": 43,
   "metadata": {},
   "outputs": [
    {
     "name": "stdout",
     "output_type": "stream",
     "text": [
      "[16:23:52] WARNING: /workspace/src/objective/regression_obj.cu:152: reg:linear is now deprecated in favor of reg:squarederror.\n"
     ]
    },
    {
     "data": {
      "text/plain": [
       "Pipeline(memory=None,\n",
       "         steps=[('featureunion',\n",
       "                 FeatureUnion(n_jobs=None,\n",
       "                              transformer_list=[('numericals',\n",
       "                                                 Pipeline(memory=None,\n",
       "                                                          steps=[('positionalselector',\n",
       "                                                                  PositionalSelector(positions=[1,\n",
       "                                                                                                4,\n",
       "                                                                                                5])),\n",
       "                                                                 ('stripstring',\n",
       "                                                                  StripString()),\n",
       "                                                                 ('simpleonehotencoder',\n",
       "                                                                  SimpleOneHotEncoder())],\n",
       "                                                          verbose=False)),\n",
       "                                                ('categoricals',\n",
       "                                                 Pipeline(memory=None,\n",
       "                                                          steps=[('positionalselector',\n",
       "                                                                  P...\n",
       "                              colsample_bylevel=1, colsample_bynode=1,\n",
       "                              colsample_bytree=1, gamma=0,\n",
       "                              importance_type='gain', learning_rate=0.1,\n",
       "                              max_delta_step=0, max_depth=3, min_child_weight=1,\n",
       "                              missing=None, n_estimators=100, n_jobs=1,\n",
       "                              nthread=None, objective='reg:linear',\n",
       "                              random_state=0, reg_alpha=0, reg_lambda=1,\n",
       "                              scale_pos_weight=1, seed=None, silent=None,\n",
       "                              subsample=1, verbosity=1))],\n",
       "         verbose=False)"
      ]
     },
     "execution_count": 43,
     "metadata": {},
     "output_type": "execute_result"
    }
   ],
   "source": [
    "# Train the model, this will take a few minutes to run\n",
    "pipeline2.fit(x_train, y_train)"
   ]
  },
  {
   "cell_type": "code",
   "execution_count": 48,
   "metadata": {},
   "outputs": [],
   "source": [
    "#Prepare data for what-if-tool\n",
    "test_examples = x_test\n",
    "test_examples['charges'] = y_test"
   ]
  },
  {
   "cell_type": "code",
   "execution_count": 50,
   "metadata": {},
   "outputs": [
    {
     "data": {
      "text/html": [
       "<style>.container { width:100% !important; }</style>"
      ],
      "text/plain": [
       "<IPython.core.display.HTML object>"
      ]
     },
     "metadata": {},
     "output_type": "display_data"
    },
    {
     "data": {
      "application/vnd.jupyter.widget-view+json": {
       "model_id": "a1fb3ecd52464d06b87b89a581dda8b7",
       "version_major": 2,
       "version_minor": 0
      },
      "text/plain": [
       "WitWidget(config={'model_type': 'regression', 'label_vocab': [], 'feature_names': ['age', 'sex', 'bmi', 'child…"
      ]
     },
     "metadata": {},
     "output_type": "display_data"
    }
   ],
   "source": [
    "#definea a customized prediction function so it fits the what-if-tool format\n",
    "def customized_prediction2(x):\n",
    "    x_df = pd.DataFrame(x, columns=data.columns.tolist())\n",
    "    return pipeline2.predict(x_df)\n",
    "\n",
    "#fire up the tool\n",
    "config_builder = (\n",
    "    WitConfigBuilder(test_examples.values.tolist(), test_examples.columns.tolist())\n",
    "    .set_custom_predict_fn(customized_prediction2)\n",
    "    .set_target_feature('charges')\n",
    "    .set_model_type('regression')\n",
    ")\n",
    "\n",
    "WitWidget(config_builder, height=800)"
   ]
  },
  {
   "cell_type": "markdown",
   "metadata": {},
   "source": [
    "### Quick comments:"
   ]
  },
  {
   "cell_type": "code",
   "execution_count": null,
   "metadata": {},
   "outputs": [],
   "source": []
  }
 ],
 "metadata": {
  "kernelspec": {
   "display_name": "Python 3",
   "language": "python",
   "name": "python3"
  },
  "language_info": {
   "codemirror_mode": {
    "name": "ipython",
    "version": 3
   },
   "file_extension": ".py",
   "mimetype": "text/x-python",
   "name": "python",
   "nbconvert_exporter": "python",
   "pygments_lexer": "ipython3",
   "version": "3.6.9"
  }
 },
 "nbformat": 4,
 "nbformat_minor": 4
}
